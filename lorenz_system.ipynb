{
 "cells": [
  {
   "cell_type": "markdown",
   "metadata": {},
   "source": [
    "# Solving Lorenz Dynamical System\n",
    "Here, we solve the Dynamical System of Equations\n",
    "$$ \n",
    "\\begin{align*}\n",
    "    \\frac{\\mathrm d x}{\\mathrm d t} &= \\sigma(y-x) \\\\\n",
    "    \\frac{\\mathrm d y}{\\mathrm d t} &= x(\\rho - z) - y \\\\\n",
    "    \\frac{\\mathrm d z}{\\mathrm d t} &= xy - \\beta z\n",
    "\\end{align*} \n",
    "$$\n",
    "External packages used: \n",
    "- `numpy`\n",
    "- `matplotlib`"
   ]
  },
  {
   "cell_type": "code",
   "execution_count": null,
   "metadata": {},
   "outputs": [],
   "source": [
    "from typing import Callable\n",
    "import numpy as np\n",
    "from numpy._typing import NDArray\n",
    "import matplotlib.pyplot as plt\n",
    "import os\n",
    "plt.rcParams.update({'font.size': 14})"
   ]
  },
  {
   "cell_type": "code",
   "execution_count": null,
   "metadata": {},
   "outputs": [],
   "source": [
    "if \"visuals\" not in os.listdir():\n",
    "    os.mkdir(\"visuals\")"
   ]
  },
  {
   "cell_type": "markdown",
   "metadata": {},
   "source": [
    "We first define a *state vector* $\\mathbf X(t)$ such that\n",
    "$$ \n",
    "\\begin{align*}\n",
    "    \\mathbf X(t) &= \\begin{bmatrix}\n",
    "        x(t) \\\\\n",
    "        y(t) \\\\\n",
    "        z(t)\n",
    "    \\end{bmatrix}\n",
    "\\end{align*}\n",
    "$$\n",
    "Then, the Lorenz Equations can be modelled as a vector function $f(t, \\mathbf X)$\n",
    "$$ \n",
    "    \\frac{\\mathrm d\\mathbf X}{\\mathrm d t} = f(t, \\mathbf X)\n",
    "$$\n",
    "Therefore, we can write this differential equation in the form of Range-Kutta 4th Order:\n",
    "$$\n",
    "    \\mathbf X_{i+1} = \\mathbf X_i + \\frac{\\Delta t}{6}(k_1 + 2k_2 + 2k_3 + k_4)\n",
    "$$"
   ]
  },
  {
   "cell_type": "code",
   "execution_count": null,
   "metadata": {},
   "outputs": [],
   "source": [
    "def rk4(X_i: NDArray, dt: float, f: Callable) -> NDArray:\n",
    "    k1 = f(X_i)\n",
    "    k2 = f(X_i + dt*k1/2)\n",
    "    k3 = f(X_i + dt*k2/2)\n",
    "    k4 = f(X_i + dt*k3)\n",
    "    X_n = X_i + dt/6 * (k1 + 2*k2 + 2*k3 + k4)\n",
    "    return X_n"
   ]
  },
  {
   "cell_type": "markdown",
   "metadata": {},
   "source": [
    "The aforementioned Lorenz Equations:"
   ]
  },
  {
   "cell_type": "code",
   "execution_count": null,
   "metadata": {},
   "outputs": [],
   "source": [
    "def lorenz(X: NDArray) -> NDArray:\n",
    "    sigma = 10\n",
    "    rho = 28\n",
    "    beta = 8/3\n",
    "    x, y, z = X\n",
    "\n",
    "    dxdt = sigma*(y-x)\n",
    "    dydt = x*(rho-z) - y\n",
    "    dzdt = x*y - beta*z\n",
    "\n",
    "    return np.array([dxdt, dydt, dzdt])"
   ]
  },
  {
   "cell_type": "markdown",
   "metadata": {},
   "source": [
    "Initial conditions provided: $\\mathbf X_0 = [1,\\, 1,\\, 1]$."
   ]
  },
  {
   "cell_type": "code",
   "execution_count": null,
   "metadata": {},
   "outputs": [],
   "source": [
    "X0 = np.array([1, 1, 1])\n",
    "t_n = 50            # in seconds\n",
    "dt = 0.001\n",
    "N = int(t_n/dt)     # no. of elements/points\n",
    "\n",
    "X = np.empty((N+1, 3))\n",
    "X[0] = X0\n",
    "\n",
    "for i in range(0, N):\n",
    "    X[i+1] = rk4(X[i], dt, lorenz)"
   ]
  },
  {
   "cell_type": "markdown",
   "metadata": {},
   "source": [
    "Plot of the trajectory visualized"
   ]
  },
  {
   "cell_type": "code",
   "execution_count": null,
   "metadata": {},
   "outputs": [],
   "source": [
    "fig, ax = plt.subplots(figsize=(8, 8), subplot_kw={\"projection\":\"3d\"})\n",
    "\n",
    "# ax.set_title(\"Phase space of Lorenz System\")\n",
    "ax.set_xlabel(\"X\")\n",
    "ax.set_ylabel(\"Y\")\n",
    "ax.set_zlabel(\"Z\")\n",
    "\n",
    "x, y, z = X.T\n",
    "ax.plot(x, y, z)\n",
    "\n",
    "fig.savefig(\"visuals/1-phase_space_lorenz.png\")"
   ]
  },
  {
   "cell_type": "markdown",
   "metadata": {},
   "source": [
    "Time series of the Lorenz system"
   ]
  },
  {
   "cell_type": "code",
   "execution_count": null,
   "metadata": {},
   "outputs": [],
   "source": [
    "fig, ax = plt.subplots(figsize=(8, 8))\n",
    "time = np.arange(0, t_n+dt, dt)\n",
    "ax.plot(time, x, label=\"x(t)\")\n",
    "ax.plot(time, y, label=\"y(t)\")\n",
    "ax.plot(time, z, label=\"z(t)\")\n",
    "ax.legend()\n",
    "ax.set_ylabel(\"States\")\n",
    "ax.set_xlabel(\"Time (t)\")\n",
    "fig.savefig(\"visuals/2-time-series-lorenz\")"
   ]
  },
  {
   "cell_type": "markdown",
   "metadata": {},
   "source": [
    "### Lyapunov Exponent Analysis\n",
    "Here, instead of solving in main program, solution is made into a function."
   ]
  },
  {
   "cell_type": "code",
   "execution_count": null,
   "metadata": {},
   "outputs": [],
   "source": [
    "def solve_lorenz(X0: NDArray[1], t0: float, t_n: float, dt: float) -> NDArray[2]:\n",
    "    \"\"\"\n",
    "    Parameters\n",
    "    ----------\n",
    "    X0: NDArray\n",
    "        initial position\n",
    "    t0: float\n",
    "        initial time\n",
    "    t_n: float\n",
    "        final time\n",
    "    \"\"\"\n",
    "    N_i = int((t_n-t0)/dt)\n",
    "    X_i = np.empty((N_i+1, 3))\n",
    "    X_i[0] = X0\n",
    "    for i in range(0, N_i):\n",
    "        X_i[i+1] = rk4(X_i[i], dt, lorenz)\n",
    "    \n",
    "    return X_i"
   ]
  },
  {
   "cell_type": "markdown",
   "metadata": {},
   "source": [
    "Function to compute the largest lyapunov exponent $\\lambda$. See report for details"
   ]
  },
  {
   "cell_type": "code",
   "execution_count": null,
   "metadata": {},
   "outputs": [],
   "source": [
    "def compute_largest_lyapunov(X_initial: NDArray):\n",
    "    \"\"\"\n",
    "    X_initial: NDArray\n",
    "        initial position\n",
    "    \"\"\"\n",
    "    d0 = 1e-6    # Initial separation distance\n",
    "    t0 = 0      # Initial time\n",
    "    t_final = 1000\n",
    "    t_step = 0.1   # Time step for reseting trajectories\n",
    "    # dt = dt     # Using globally defined value for dt\n",
    "    N_steps = int((t_final-t0)/t_step)\n",
    "\n",
    "    X_step = np.array([d0, 0, 0])\n",
    "\n",
    "    lyapunov_list = []\n",
    "    X_new = X_initial\n",
    "    for _ in range(N_steps):\n",
    "        X_1 = solve_lorenz(X_new, 0, t_step, dt)\n",
    "        X_2 = solve_lorenz(X_new + X_step, 0, t_step, dt)\n",
    "        \n",
    "        X_new = X_1[-1]\n",
    "        X_pert = X_2[-1]\n",
    "        distance_vector = X_pert - X_new\n",
    "        distance = np.linalg.norm(distance_vector)\n",
    "        lyapunov = np.log(distance / d0)\n",
    "        lyapunov_list.append(lyapunov)\n",
    "\n",
    "        # Update X_step in the direction of distance vector\n",
    "        X_step = distance_vector/distance*d0\n",
    "\n",
    "    return sum(lyapunov_list)/(len(lyapunov_list)*t_step)"
   ]
  },
  {
   "cell_type": "code",
   "execution_count": null,
   "metadata": {},
   "outputs": [],
   "source": [
    "largest_lyapunov = compute_largest_lyapunov(X0)"
   ]
  },
  {
   "cell_type": "markdown",
   "metadata": {},
   "source": [
    "Here, Largest Lyapunov is approximately 0.88936. For larger iterations, it gets closer to 0.90. The largest lyapunov being > 0 means it is a chaotic system."
   ]
  },
  {
   "cell_type": "code",
   "execution_count": null,
   "metadata": {},
   "outputs": [],
   "source": [
    "largest_lyapunov    # > 0 which implies chaotic behavior"
   ]
  },
  {
   "cell_type": "markdown",
   "metadata": {},
   "source": [
    "### Animating different trajectories to show chaos"
   ]
  },
  {
   "cell_type": "code",
   "execution_count": null,
   "metadata": {},
   "outputs": [],
   "source": [
    "from matplotlib import animation\n",
    "from matplotlib.animation import PillowWriter"
   ]
  },
  {
   "cell_type": "code",
   "execution_count": null,
   "metadata": {},
   "outputs": [],
   "source": [
    "X_1 = solve_lorenz(X0, 0, t_n, dt)\n",
    "X_2 = solve_lorenz(X0 + np.array([0.1, 0, 0]), 0, t_n, dt)  # a small displacement\n",
    "distances = np.linalg.norm(X_2 - X_1, axis=1)\n",
    "t = np.arange(0, t_n+dt, dt)\n",
    "\n",
    "fig = plt.figure(figsize=(16, 8))\n",
    "dist_ax = fig.add_subplot(1, 2, 1)\n",
    "path_ax = fig.add_subplot(1, 2, 2, projection='3d')\n",
    "\n",
    "dist_ax.set_title(\"Distance between trajectories over Time\")\n",
    "dist_ax.set_xlim(0, t_n)\n",
    "# dist_ax.set_ylim(0, np.max(distances))\n",
    "dist_ax.set_xlabel(\"Time\")\n",
    "dist_ax.set_ylabel(\"Distance\")\n",
    "\n",
    "path_ax.set_title(\"Phase space for Multiple Trajectories\")\n",
    "path_ax.set_xlim(np.min(X_1.T[0])-1, np.max(X_1.T[0])+1)\n",
    "path_ax.set_ylim(np.min(X_1.T[1])-1, np.max(X_1.T[1])+1)\n",
    "path_ax.set_zlim(np.min(X_1.T[2])-1, np.max(X_1.T[2])+1)\n",
    "\n",
    "path_ax.set_xlabel(\"X\")\n",
    "path_ax.set_ylabel(\"Y\")\n",
    "path_ax.set_zlabel(\"Z\")\n",
    "\n",
    "dist_plot, = dist_ax.plot([], [], label=\"Distance (in units)\")\n",
    "path1_plot, = path_ax.plot([], [], [], label=\"Trajectory 1\")\n",
    "path2_plot, = path_ax.plot([], [], [], label=\"Trajectory 2\")\n",
    "\n",
    "dist_ax.legend()\n",
    "path_ax.legend()\n",
    "\n",
    "frame_step = 100\n",
    "total_frames = int(N/frame_step)\n",
    "\n",
    "def animate(frame_num):\n",
    "    index = frame_step*frame_num\n",
    "\n",
    "    dist_plot.set_data(t[:index+1], distances[:index+1])\n",
    "    dist_ax.relim()\n",
    "    dist_ax.autoscale_view()\n",
    "\n",
    "    x, y, z = X_1.T\n",
    "    path1_plot.set_data(x[:index+1], y[:index+1])\n",
    "    path1_plot.set_3d_properties(z[:index+1])\n",
    "\n",
    "    x, y, z = X_2.T\n",
    "    path2_plot.set_data(x[:index+1], y[:index+1])\n",
    "    path2_plot.set_3d_properties(z[:index+1])\n",
    "\n",
    "    return dist_plot, path1_plot, path2_plot\n",
    "\n",
    "FPS = 50\n",
    "ani = animation.FuncAnimation(fig, animate, frames=total_frames, interval=20, blit=True)\n",
    "ani.save('lorenz_evolution.gif', writer=\"pillow\", fps=FPS, dpi=100)\n",
    "fig.savefig(\"2-lorenz_evolution.png\")"
   ]
  },
  {
   "cell_type": "code",
   "execution_count": null,
   "metadata": {},
   "outputs": [],
   "source": []
  },
  {
   "cell_type": "code",
   "execution_count": null,
   "metadata": {},
   "outputs": [],
   "source": []
  },
  {
   "cell_type": "code",
   "execution_count": null,
   "metadata": {},
   "outputs": [],
   "source": []
  },
  {
   "cell_type": "code",
   "execution_count": null,
   "metadata": {},
   "outputs": [],
   "source": []
  },
  {
   "cell_type": "code",
   "execution_count": null,
   "metadata": {},
   "outputs": [],
   "source": []
  },
  {
   "cell_type": "raw",
   "metadata": {
    "vscode": {
     "languageId": "raw"
    }
   },
   "source": [
    "# Create frames for animation\n",
    "frames = []\n",
    "frame_step = 300\n",
    "frame_duration = 10\n",
    "\n",
    "x_range = [-25, 25]\n",
    "y_range = [-35, 35]\n",
    "z_range = [0, 60]\n",
    "\n",
    "angles = np.linspace(0, 2*np.pi, (N-1)//frame_step)\n",
    "radius = 2 # distance to origin\n",
    "\n",
    "for i in range(1, N, frame_step):\n",
    "    frames.append(go.Frame(\n",
    "        data=[go.Scatter3d(\n",
    "            x=x[:i], y=y[:i], z=z[:i],\n",
    "            mode=\"lines\",\n",
    "            line=dict(color='blue', width=2)\n",
    "        )]\n",
    "        ,\n",
    "        layout=dict(\n",
    "            scene=dict(\n",
    "                camera=dict(\n",
    "                    eye=dict(x=radius*np.cos(angles[i//frame_step-1]), y=radius*np.sin(angles[i//frame_step-1]), z=.5)  # Moves left to right\n",
    "                )\n",
    "            )\n",
    "        )\n",
    "    ))\n",
    "\n",
    "fig = go.Figure(\n",
    "    data=[go.Scatter3d(\n",
    "        x=[], y=[], z=[],\n",
    "        mode=\"lines\",\n",
    "        line=dict(color=\"blue\", width=2)\n",
    "    )],\n",
    "    layout=go.Layout(\n",
    "        title=\"Lorenz Attractor Animation\",\n",
    "        scene=dict(\n",
    "            xaxis=dict(title=\"X Axis\", range=x_range),\n",
    "            yaxis=dict(title=\"Y Axis\", range=y_range),\n",
    "            zaxis=dict(title=\"Z Axis\", range=z_range),\n",
    "            camera=dict(eye=dict(x=-50, y=0, z=.5))  # Starting position\n",
    "        ),\n",
    "        updatemenus=[dict(\n",
    "            type=\"buttons\",\n",
    "            showactive=False,\n",
    "            buttons=[dict(label=\"Play\",\n",
    "                          method=\"animate\",\n",
    "                          args=[None, dict(frame=dict(duration=frame_duration, redraw=True), fromcurrent=True)])]\n",
    "        )]\n",
    "    ),\n",
    "    frames=frames\n",
    ")\n",
    "\n",
    "# Show the plot\n",
    "fig.show()"
   ]
  }
 ],
 "metadata": {
  "kernelspec": {
   "display_name": "venv",
   "language": "python",
   "name": "python3"
  },
  "language_info": {
   "codemirror_mode": {
    "name": "ipython",
    "version": 3
   },
   "file_extension": ".py",
   "mimetype": "text/x-python",
   "name": "python",
   "nbconvert_exporter": "python",
   "pygments_lexer": "ipython3",
   "version": "3.13.2"
  }
 },
 "nbformat": 4,
 "nbformat_minor": 2
}
