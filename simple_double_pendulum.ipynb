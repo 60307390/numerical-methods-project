{
 "cells": [
  {
   "cell_type": "markdown",
   "id": "1956dd7c",
   "metadata": {},
   "source": [
    "# Simple Double Pendulum\n",
    "NOTE: $\\Delta\\theta = \\theta_1-\\theta_2$. Solving equations\n",
    "$$\n",
    "\\newcommand{\\Dtheta}{\\Delta\\theta}\n",
    "\n",
    "\\begin{align*}\n",
    "    \\dot\\theta_1 &= \\omega_1 \\\\\n",
    "    \\dot\\theta_2 &= \\omega_2 \\\\\n",
    "    \\dot\\omega_1 &= \\frac{-m_2(L_1\\dot\\theta_1^2\\sin\\Dtheta\\cos\\Dtheta + L_2\\dot\\theta_2^2\\sin\\Dtheta)}{m_1L_1+m_2L_2\\sin\\Dtheta} +\n",
    "     \\frac{ g( -(m_1+m_2)\\sin\\theta_1 + m_2\\cos\\Dtheta\\sin\\theta_2 )}{m_1L_1+m_2L_2\\sin\\Dtheta}  \\\\\n",
    "\\\\\n",
    "    \\dot\\omega_2 &= \\frac{ (m_1+m_2)L_1\\dot\\theta_1^2\\sin\\Dtheta + m_2L_2\\dot\\theta_2^2\\sin\\Dtheta\\cos\\Dtheta}{m_1L_2 + m_2L_2\\sin\\Dtheta} + \\frac{(m_1+m_2)g(\\sin\\theta_1\\cos\\Dtheta - \\sin\\theta_2) }{m_1L_2 + m_2L_2\\sin\\Dtheta}\n",
    "\\end{align*}\n",
    "$$\n",
    "External libraries used:\n",
    "- `numpy`        - for vector operations\n",
    "- `matplotlib`   - for visualization\n",
    "- `tqdm`         - for progress bar"
   ]
  },
  {
   "cell_type": "code",
   "execution_count": null,
   "id": "39f6748c",
   "metadata": {},
   "outputs": [],
   "source": [
    "import numpy as np\n",
    "from numpy._typing import NDArray\n",
    "import matplotlib.pyplot as plt\n",
    "from numpy import sin, cos\n",
    "from functools import partial\n",
    "from typing import Callable"
   ]
  },
  {
   "cell_type": "markdown",
   "id": "b77d5c16",
   "metadata": {},
   "source": [
    "A class to represent Double Pendulum State.\n",
    "\n",
    "Contains a state vector $\\mathbf Y$ where $\\mathbf Y = [\\theta_1,\\, \\theta_2,\\, \\omega_1,\\, \\omega_2]$."
   ]
  },
  {
   "cell_type": "code",
   "execution_count": null,
   "id": "d388445d",
   "metadata": {},
   "outputs": [],
   "source": [
    "class DoublePendulum:\n",
    "    def __init__(self, state_vector, masses, lengths):\n",
    "        self.state_vector = state_vector\n",
    "        self.m1 = masses[0]\n",
    "        self.m2 = masses[1]\n",
    "        self.l1 = lengths[0]\n",
    "        self.l2 = lengths[1]"
   ]
  },
  {
   "cell_type": "markdown",
   "id": "6991b129",
   "metadata": {},
   "source": [
    "Implementing the $\\phi$ function. To solve equation of the form\n",
    "$$ \\frac{\\mathrm d\\mathbf Y}{\\mathrm dt} = \\phi(\\mathbf Y)$$\n",
    "Using RK4 method from before"
   ]
  },
  {
   "cell_type": "code",
   "execution_count": null,
   "id": "2cb8b11e",
   "metadata": {},
   "outputs": [],
   "source": [
    "def phi(dp_state: DoublePendulum, Y: NDArray) -> NDArray:\n",
    "    m1, m2 = dp_state.m1, dp_state.m2\n",
    "    L1, L2 = dp_state.l1, dp_state.l2\n",
    "    theta1, theta2, omega1, omega2 = Y\n",
    "    dtheta = theta1 - theta2\n",
    "    Y_n = np.empty(4)\n",
    "\n",
    "    Y_n[0] = omega1\n",
    "    Y_n[1] = omega2\n",
    "\n",
    "    # omega1\n",
    "    Y_n[2] = ( -m2*(L1*omega1**2*sin(dtheta)*cos(dtheta) + L2*omega2**2*sin(dtheta)) + g*(-(m1+m2)*sin(theta1) + m2*cos(dtheta)*sin(theta2)) ) / (m1*L1 + m2*L1*sin(dtheta)**2)\n",
    "\n",
    "    # omega2\n",
    "    Y_n[3] = ( (m1+m2)*L1*omega1**2*sin(dtheta) + m2*L2*omega2**2*sin(dtheta)*cos(dtheta) + (m1+m2)*g*(sin(theta1)*cos(dtheta) - sin(theta2)) ) / (m1*L2 + m2*L2*sin(dtheta)**2)\n",
    "\n",
    "    return Y_n\n",
    "\n",
    "def rk4_step(y_i: float, dt: float, f: Callable):\n",
    "    k1 = f(y_i)\n",
    "    k2 = f(y_i + dt*k1/2)\n",
    "    k3 = f(y_i + dt*k2/2)\n",
    "    k4 = f(y_i + dt*k3)\n",
    "    y_n = y_i + dt/6 * (k1 + 2*k2 + 2*k3 + k4)\n",
    "    return y_n \n",
    "\n",
    "def solve_pendulum(dp_state: DoublePendulum, dt, N_steps) -> NDArray:\n",
    "    Y_i = np.empty((N_steps+1, 4))\n",
    "    Y_i[0] = dp_state.state_vector\n",
    "    partial_phi = partial(phi, dp_state)\n",
    "    for i in range(N_steps):\n",
    "        Y_i[i+1] = rk4_step(Y_i[i], dt, partial_phi)\n",
    "    return Y_i\n"
   ]
  },
  {
   "cell_type": "markdown",
   "id": "076ea340",
   "metadata": {},
   "source": [
    "Initial conditions.\n",
    "For the parametric plot given in PPT, use $\\theta_1 = 0.1$ and $\\theta_2 = 0.1$, and $t_n=50$."
   ]
  },
  {
   "cell_type": "code",
   "execution_count": null,
   "id": "f7a116d6",
   "metadata": {},
   "outputs": [],
   "source": [
    "theta1_0, theta2_0 = 90, 90\n",
    "omega1_0, omega2_0 = 0, 0\n",
    "g = 9.81\n",
    "initial_state_vector = np.radians(np.array([theta1_0, theta2_0, omega1_0, omega2_0]))\n",
    "dp_state = DoublePendulum(\n",
    "    state_vector=initial_state_vector,\n",
    "    masses=[10, 20],\n",
    "    lengths=[10, 20]\n",
    ")"
   ]
  },
  {
   "cell_type": "code",
   "execution_count": null,
   "id": "e6b851d1",
   "metadata": {},
   "outputs": [],
   "source": [
    "dt = 0.01\n",
    "t_n = 250    # in seconds\n",
    "N = int(t_n/dt)\n",
    "\n",
    "Y = solve_pendulum(dp_state, dt, N)"
   ]
  },
  {
   "cell_type": "markdown",
   "id": "63ff5b82",
   "metadata": {},
   "source": [
    "Plotting,"
   ]
  },
  {
   "cell_type": "code",
   "execution_count": null,
   "id": "ab5bce55",
   "metadata": {},
   "outputs": [],
   "source": [
    "theta1, theta2, omega1, omega2 = Y.T\n",
    "x1 = dp_state.l1*sin(theta1)\n",
    "y1 = -dp_state.l1*cos(theta1)\n",
    "x2 = dp_state.l1*sin(theta1) + dp_state.l2*sin(theta2)\n",
    "y2 = -dp_state.l1*cos(theta1) - dp_state.l2*cos(theta2)\n",
    "plt.rcParams.update({'font.size': 14})"
   ]
  },
  {
   "cell_type": "code",
   "execution_count": null,
   "id": "c9962134",
   "metadata": {},
   "outputs": [],
   "source": [
    "fig, ax = plt.subplots(figsize=(8, 8))\n",
    "ax.set_title(\"Angles plotted as parametric plot\")\n",
    "ax.plot(theta1, theta2)\n",
    "ax.set_xlabel(r\"$\\theta_1$\")\n",
    "ax.set_ylabel(r\"$\\theta_2$\")\n",
    "fig.savefig(\"5-dp-phase-t1-t2\", bbox_inches=\"tight\")"
   ]
  },
  {
   "cell_type": "code",
   "execution_count": null,
   "id": "6b1345f9",
   "metadata": {},
   "outputs": [],
   "source": [
    "fig, ax = plt.subplots(figsize=(8, 8))\n",
    "# ax.plot(x1, y1)\n",
    "ax.plot(x2, y2, color=\"#ffd48f\")\n",
    "\n",
    "ax.plot([-100, 100], [0, 0], '-', color=\"#cccccc\")\n",
    "ax.plot([0, 0], [-100, 100], '-', color=\"#cccccc\")\n",
    "ax.set_xlim(-40, 40)\n",
    "ax.set_ylim(-40, 40)\n",
    "ax.set_xlabel(\"x\")\n",
    "ax.set_ylabel(\"y\")\n",
    "ax.set_title(\"Evolution of pendulum over time\")\n",
    "string, = ax.plot([0, x1[-1], x2[-1]], [0, y1[-1], y2[-1]], '-o', color=\"blue\")\n",
    "fig.savefig(\"6-dp-evolution\")"
   ]
  },
  {
   "cell_type": "markdown",
   "id": "dba4ffc3",
   "metadata": {},
   "source": [
    "### Lyapunov Exponent Analysis\n",
    "From the algorithm used in Lorenz Equations, we can visualize the Lyapunov Exponents for multiple initial angles"
   ]
  },
  {
   "cell_type": "code",
   "execution_count": null,
   "id": "2f0395e8",
   "metadata": {},
   "outputs": [],
   "source": [
    "import copy"
   ]
  },
  {
   "cell_type": "code",
   "execution_count": null,
   "id": "aa0b6075",
   "metadata": {},
   "outputs": [],
   "source": [
    "def compute_largest_lyapunov(dp_state: DoublePendulum) -> float:\n",
    "    d0 = 1e-6\n",
    "    t_total = 10  # in seconds\n",
    "    t_step = 1\n",
    "    N_steps = int(t_total/t_step)\n",
    "    N_iter = int(t_step/dt) # For Pendulum integration\n",
    "\n",
    "    state1 = copy.deepcopy(dp_state) \n",
    "    state2 = copy.deepcopy(dp_state)\n",
    "    step_vector = np.array([d0, 0, 0, 0])\n",
    "    lyapunov_list = []\n",
    "\n",
    "    for _ in range(N_steps):\n",
    "        state2.state_vector = state1.state_vector + step_vector\n",
    "\n",
    "        Y1 = solve_pendulum(state1, dt, N_iter)\n",
    "        Y2 = solve_pendulum(state2, dt, N_iter)\n",
    "\n",
    "        Y_new = Y1[-1]\n",
    "        Y_pert = Y2[-1]\n",
    "\n",
    "        distance_vector = Y_new - Y_pert\n",
    "        distance = np.linalg.norm(distance_vector)\n",
    "        lyapunov = np.log(distance / d0 + 1e-12)\n",
    "        lyapunov_list.append(lyapunov)\n",
    "\n",
    "        step_vector = distance_vector/distance*d0\n",
    "        state1.state_vector = Y_new\n",
    "\n",
    "    return sum(lyapunov_list)/(N_steps * t_step)"
   ]
  },
  {
   "cell_type": "markdown",
   "id": "cb2b9651",
   "metadata": {},
   "source": [
    "Test value"
   ]
  },
  {
   "cell_type": "code",
   "execution_count": null,
   "id": "03d64a09",
   "metadata": {},
   "outputs": [],
   "source": [
    "compute_largest_lyapunov(dp_state)"
   ]
  },
  {
   "cell_type": "markdown",
   "id": "a616ed6b",
   "metadata": {},
   "source": [
    "Code for plotting the Lyapunov grid. "
   ]
  },
  {
   "cell_type": "code",
   "execution_count": null,
   "id": "11a6132b",
   "metadata": {},
   "outputs": [],
   "source": [
    "from tqdm.notebook import tqdm  # For progress bar"
   ]
  },
  {
   "cell_type": "markdown",
   "id": "a9f5c58a",
   "metadata": {},
   "source": [
    "Higher $N_{\\theta}$ -> Higher resolution.\n",
    "\n",
    "Higher $t_{total}$ (in `compute_largest_lyapunov`) -> Higher accuracy of $\\lambda$\n",
    "\n",
    "Est. Time: 30 mins"
   ]
  },
  {
   "cell_type": "markdown",
   "id": "fec24dc2",
   "metadata": {},
   "source": [
    "Run the code again : Use linspace"
   ]
  },
  {
   "cell_type": "code",
   "execution_count": null,
   "id": "26ca83cc",
   "metadata": {},
   "outputs": [],
   "source": [
    "N_theta = 100\n",
    "test1 = np.arange(0, 2*np.pi, (2*np.pi/N_theta))\n",
    "test2 = np.linspace(0, 2*np.pi, N_theta)"
   ]
  },
  {
   "cell_type": "code",
   "execution_count": null,
   "id": "fa5bc490",
   "metadata": {},
   "outputs": [],
   "source": [
    "N_theta = 100\n",
    "theta_diff = 2*np.pi/N_theta\n",
    "initial_theta1_array = np.arange(0, 2*np.pi, theta_diff)\n",
    "initial_theta2_array = np.arange(0, 2*np.pi, theta_diff)\n",
    "\n",
    "lyapunov_matrix = []\n",
    "\n",
    "for i in tqdm(range(N_theta)):\n",
    "    lyapunov_array = np.empty(N_theta)\n",
    "    for j in tqdm(range(N_theta), leave=False):\n",
    "        t1 = initial_theta1_array[j]\n",
    "        t2 = initial_theta2_array[i]\n",
    "        dp_state_initial = DoublePendulum(\n",
    "            state_vector=np.array([t1, t2, 0, 0]),\n",
    "            masses = [dp_state.m1, dp_state.m2],\n",
    "            lengths = [dp_state.l1, dp_state.l2]\n",
    "        )\n",
    "        lyapunov_exp = compute_largest_lyapunov(dp_state_initial)\n",
    "        lyapunov_array[j] = lyapunov_exp\n",
    "    lyapunov_matrix.append(lyapunov_array)"
   ]
  },
  {
   "cell_type": "code",
   "execution_count": null,
   "id": "95069e8d",
   "metadata": {},
   "outputs": [],
   "source": [
    "lyapunov_matrix = np.array(lyapunov_matrix)"
   ]
  },
  {
   "cell_type": "code",
   "execution_count": null,
   "id": "d27dcdc3",
   "metadata": {},
   "outputs": [],
   "source": [
    "fig, ax = plt.subplots(figsize=(12,8))\n",
    "cmap = ax.pcolormesh(initial_theta2_array, initial_theta1_array, lyapunov_matrix.T, cmap=\"plasma\", vmin=0, vmax=1)\n",
    "ax.set_title(r\"Lyapunov Exponents for different $\\theta_1$ and $\\theta_2$\")\n",
    "ax.set_xlabel(r\"$\\theta_2$\")\n",
    "ax.set_ylabel(r\"$\\theta_1$\")\n",
    "fig.colorbar(cmap, label=r\"$\\lambda$\")\n",
    "fig.savefig(\"7-lyapunov-exp-graph\")"
   ]
  }
 ],
 "metadata": {
  "kernelspec": {
   "display_name": "venv",
   "language": "python",
   "name": "python3"
  },
  "language_info": {
   "codemirror_mode": {
    "name": "ipython",
    "version": 3
   },
   "file_extension": ".py",
   "mimetype": "text/x-python",
   "name": "python",
   "nbconvert_exporter": "python",
   "pygments_lexer": "ipython3",
   "version": "3.13.3"
  }
 },
 "nbformat": 4,
 "nbformat_minor": 5
}
